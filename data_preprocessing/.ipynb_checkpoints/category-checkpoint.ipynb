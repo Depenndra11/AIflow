{
 "cells": [
  {
   "cell_type": "code",
   "execution_count": 37,
   "id": "4f749365-6bfb-4177-bae8-0f973ede0f8d",
   "metadata": {},
   "outputs": [],
   "source": [
    "import numpy as np\n",
    "import matplotlib.pyplot as plt\n",
    "import pandas as pd \n",
    "from sklearn.impute import SimpleImputer\n",
    "from sklearn.compose import ColumnTransformer\n",
    "from sklearn.preprocessing import OneHotEncoder\n",
    "from sklearn.preprocessing import LabelEncoder\n",
    "from sklearn.model_selection import train_test_split\n",
    "from sklearn.preprocessing import StandardScaler\n",
    "\n",
    "\n"
   ]
  },
  {
   "cell_type": "markdown",
   "id": "ee3d7167-d727-4f58-a1ea-94b57535dcde",
   "metadata": {},
   "source": [
    "Remove blank using Panda lib. Used in data science"
   ]
  },
  {
   "cell_type": "code",
   "execution_count": 38,
   "id": "827888ae-5672-4a37-b4d2-3c87a3bfbd4f",
   "metadata": {},
   "outputs": [
    {
     "data": {
      "text/html": [
       "<div>\n",
       "<style scoped>\n",
       "    .dataframe tbody tr th:only-of-type {\n",
       "        vertical-align: middle;\n",
       "    }\n",
       "\n",
       "    .dataframe tbody tr th {\n",
       "        vertical-align: top;\n",
       "    }\n",
       "\n",
       "    .dataframe thead th {\n",
       "        text-align: right;\n",
       "    }\n",
       "</style>\n",
       "<table border=\"1\" class=\"dataframe\">\n",
       "  <thead>\n",
       "    <tr style=\"text-align: right;\">\n",
       "      <th></th>\n",
       "      <th>State</th>\n",
       "      <th>City</th>\n",
       "      <th>Property_Type</th>\n",
       "      <th>Size_in_SqFt</th>\n",
       "      <th>Price_in_Lakhs</th>\n",
       "    </tr>\n",
       "  </thead>\n",
       "  <tbody>\n",
       "    <tr>\n",
       "      <th>0</th>\n",
       "      <td>Tamil Nadu</td>\n",
       "      <td>Chennai</td>\n",
       "      <td>Apartment</td>\n",
       "      <td>4740.0</td>\n",
       "      <td>489.76</td>\n",
       "    </tr>\n",
       "    <tr>\n",
       "      <th>1</th>\n",
       "      <td>Maharashtra</td>\n",
       "      <td>Pune</td>\n",
       "      <td>Independent House</td>\n",
       "      <td>2364.0</td>\n",
       "      <td>195.52</td>\n",
       "    </tr>\n",
       "    <tr>\n",
       "      <th>2</th>\n",
       "      <td>Punjab</td>\n",
       "      <td>Ludhiana</td>\n",
       "      <td>Apartment</td>\n",
       "      <td>3642.0</td>\n",
       "      <td>183.79</td>\n",
       "    </tr>\n",
       "    <tr>\n",
       "      <th>3</th>\n",
       "      <td>Rajasthan</td>\n",
       "      <td>Jodhpur</td>\n",
       "      <td>Independent House</td>\n",
       "      <td>2741.0</td>\n",
       "      <td>300.29</td>\n",
       "    </tr>\n",
       "    <tr>\n",
       "      <th>4</th>\n",
       "      <td>Rajasthan</td>\n",
       "      <td>Jaipur</td>\n",
       "      <td>Villa</td>\n",
       "      <td>4823.0</td>\n",
       "      <td>182.90</td>\n",
       "    </tr>\n",
       "    <tr>\n",
       "      <th>...</th>\n",
       "      <td>...</td>\n",
       "      <td>...</td>\n",
       "      <td>...</td>\n",
       "      <td>...</td>\n",
       "      <td>...</td>\n",
       "    </tr>\n",
       "    <tr>\n",
       "      <th>249995</th>\n",
       "      <td>Gujarat</td>\n",
       "      <td>Ahmedabad</td>\n",
       "      <td>Independent House</td>\n",
       "      <td>1995.0</td>\n",
       "      <td>274.75</td>\n",
       "    </tr>\n",
       "    <tr>\n",
       "      <th>249996</th>\n",
       "      <td>Tamil Nadu</td>\n",
       "      <td>Chennai</td>\n",
       "      <td>Apartment</td>\n",
       "      <td>2293.0</td>\n",
       "      <td>13.40</td>\n",
       "    </tr>\n",
       "    <tr>\n",
       "      <th>249997</th>\n",
       "      <td>Telangana</td>\n",
       "      <td>Warangal</td>\n",
       "      <td>Villa</td>\n",
       "      <td>2910.0</td>\n",
       "      <td>236.94</td>\n",
       "    </tr>\n",
       "    <tr>\n",
       "      <th>249998</th>\n",
       "      <td>Odisha</td>\n",
       "      <td>Cuttack</td>\n",
       "      <td>Villa</td>\n",
       "      <td>1149.0</td>\n",
       "      <td>141.66</td>\n",
       "    </tr>\n",
       "    <tr>\n",
       "      <th>249999</th>\n",
       "      <td>Haryana</td>\n",
       "      <td>Gurgaon</td>\n",
       "      <td>Independent House</td>\n",
       "      <td>4313.0</td>\n",
       "      <td>199.69</td>\n",
       "    </tr>\n",
       "  </tbody>\n",
       "</table>\n",
       "<p>250000 rows × 5 columns</p>\n",
       "</div>"
      ],
      "text/plain": [
       "              State       City      Property_Type  Size_in_SqFt  \\\n",
       "0        Tamil Nadu    Chennai          Apartment        4740.0   \n",
       "1       Maharashtra       Pune  Independent House        2364.0   \n",
       "2            Punjab   Ludhiana          Apartment        3642.0   \n",
       "3         Rajasthan    Jodhpur  Independent House        2741.0   \n",
       "4         Rajasthan     Jaipur              Villa        4823.0   \n",
       "...             ...        ...                ...           ...   \n",
       "249995      Gujarat  Ahmedabad  Independent House        1995.0   \n",
       "249996   Tamil Nadu    Chennai          Apartment        2293.0   \n",
       "249997    Telangana   Warangal              Villa        2910.0   \n",
       "249998       Odisha    Cuttack              Villa        1149.0   \n",
       "249999      Haryana    Gurgaon  Independent House        4313.0   \n",
       "\n",
       "        Price_in_Lakhs  \n",
       "0               489.76  \n",
       "1               195.52  \n",
       "2               183.79  \n",
       "3               300.29  \n",
       "4               182.90  \n",
       "...                ...  \n",
       "249995          274.75  \n",
       "249996           13.40  \n",
       "249997          236.94  \n",
       "249998          141.66  \n",
       "249999          199.69  \n",
       "\n",
       "[250000 rows x 5 columns]"
      ]
     },
     "execution_count": 38,
     "metadata": {},
     "output_type": "execute_result"
    }
   ],
   "source": [
    "columns_to_keep = [\"State\", \"City\", \"Property_Type\", \"Size_in_SqFt\", \"Price_in_Lakhs\"]\n",
    "cp = pd.read_csv(r'D:\\AI_Practice\\india_housing_prices.csv', usecols=columns_to_keep)\n",
    "cp\n"
   ]
  },
  {
   "cell_type": "code",
   "execution_count": 39,
   "id": "ea2ee7a7-3968-4ff9-b6ea-6305f054b696",
   "metadata": {},
   "outputs": [
    {
     "data": {
      "text/html": [
       "<div>\n",
       "<style scoped>\n",
       "    .dataframe tbody tr th:only-of-type {\n",
       "        vertical-align: middle;\n",
       "    }\n",
       "\n",
       "    .dataframe tbody tr th {\n",
       "        vertical-align: top;\n",
       "    }\n",
       "\n",
       "    .dataframe thead th {\n",
       "        text-align: right;\n",
       "    }\n",
       "</style>\n",
       "<table border=\"1\" class=\"dataframe\">\n",
       "  <thead>\n",
       "    <tr style=\"text-align: right;\">\n",
       "      <th></th>\n",
       "      <th>State</th>\n",
       "      <th>City</th>\n",
       "      <th>Property_Type</th>\n",
       "      <th>Size_in_SqFt</th>\n",
       "    </tr>\n",
       "  </thead>\n",
       "  <tbody>\n",
       "    <tr>\n",
       "      <th>0</th>\n",
       "      <td>Tamil Nadu</td>\n",
       "      <td>Chennai</td>\n",
       "      <td>Apartment</td>\n",
       "      <td>4740.0</td>\n",
       "    </tr>\n",
       "    <tr>\n",
       "      <th>1</th>\n",
       "      <td>Maharashtra</td>\n",
       "      <td>Pune</td>\n",
       "      <td>Independent House</td>\n",
       "      <td>2364.0</td>\n",
       "    </tr>\n",
       "    <tr>\n",
       "      <th>2</th>\n",
       "      <td>Punjab</td>\n",
       "      <td>Ludhiana</td>\n",
       "      <td>Apartment</td>\n",
       "      <td>3642.0</td>\n",
       "    </tr>\n",
       "    <tr>\n",
       "      <th>3</th>\n",
       "      <td>Rajasthan</td>\n",
       "      <td>Jodhpur</td>\n",
       "      <td>Independent House</td>\n",
       "      <td>2741.0</td>\n",
       "    </tr>\n",
       "    <tr>\n",
       "      <th>4</th>\n",
       "      <td>Rajasthan</td>\n",
       "      <td>Jaipur</td>\n",
       "      <td>Villa</td>\n",
       "      <td>4823.0</td>\n",
       "    </tr>\n",
       "    <tr>\n",
       "      <th>...</th>\n",
       "      <td>...</td>\n",
       "      <td>...</td>\n",
       "      <td>...</td>\n",
       "      <td>...</td>\n",
       "    </tr>\n",
       "    <tr>\n",
       "      <th>249995</th>\n",
       "      <td>Gujarat</td>\n",
       "      <td>Ahmedabad</td>\n",
       "      <td>Independent House</td>\n",
       "      <td>1995.0</td>\n",
       "    </tr>\n",
       "    <tr>\n",
       "      <th>249996</th>\n",
       "      <td>Tamil Nadu</td>\n",
       "      <td>Chennai</td>\n",
       "      <td>Apartment</td>\n",
       "      <td>2293.0</td>\n",
       "    </tr>\n",
       "    <tr>\n",
       "      <th>249997</th>\n",
       "      <td>Telangana</td>\n",
       "      <td>Warangal</td>\n",
       "      <td>Villa</td>\n",
       "      <td>2910.0</td>\n",
       "    </tr>\n",
       "    <tr>\n",
       "      <th>249998</th>\n",
       "      <td>Odisha</td>\n",
       "      <td>Cuttack</td>\n",
       "      <td>Villa</td>\n",
       "      <td>1149.0</td>\n",
       "    </tr>\n",
       "    <tr>\n",
       "      <th>249999</th>\n",
       "      <td>Haryana</td>\n",
       "      <td>Gurgaon</td>\n",
       "      <td>Independent House</td>\n",
       "      <td>4313.0</td>\n",
       "    </tr>\n",
       "  </tbody>\n",
       "</table>\n",
       "<p>250000 rows × 4 columns</p>\n",
       "</div>"
      ],
      "text/plain": [
       "              State       City      Property_Type  Size_in_SqFt\n",
       "0        Tamil Nadu    Chennai          Apartment        4740.0\n",
       "1       Maharashtra       Pune  Independent House        2364.0\n",
       "2            Punjab   Ludhiana          Apartment        3642.0\n",
       "3         Rajasthan    Jodhpur  Independent House        2741.0\n",
       "4         Rajasthan     Jaipur              Villa        4823.0\n",
       "...             ...        ...                ...           ...\n",
       "249995      Gujarat  Ahmedabad  Independent House        1995.0\n",
       "249996   Tamil Nadu    Chennai          Apartment        2293.0\n",
       "249997    Telangana   Warangal              Villa        2910.0\n",
       "249998       Odisha    Cuttack              Villa        1149.0\n",
       "249999      Haryana    Gurgaon  Independent House        4313.0\n",
       "\n",
       "[250000 rows x 4 columns]"
      ]
     },
     "execution_count": 39,
     "metadata": {},
     "output_type": "execute_result"
    }
   ],
   "source": [
    " # Remove last col\n",
    "x = cp.iloc[:,:-1]\n",
    "y = cp.iloc[:,-1]\n",
    "x "
   ]
  },
  {
   "cell_type": "code",
   "execution_count": 40,
   "id": "ca544b11-85af-4baf-b7fe-112a5ee2ad0f",
   "metadata": {},
   "outputs": [
    {
     "data": {
      "text/plain": [
       "0         489.76\n",
       "1         195.52\n",
       "2         183.79\n",
       "3         300.29\n",
       "4         182.90\n",
       "           ...  \n",
       "249995    274.75\n",
       "249996     13.40\n",
       "249997    236.94\n",
       "249998    141.66\n",
       "249999    199.69\n",
       "Name: Price_in_Lakhs, Length: 250000, dtype: float64"
      ]
     },
     "execution_count": 40,
     "metadata": {},
     "output_type": "execute_result"
    }
   ],
   "source": [
    "y"
   ]
  },
  {
   "cell_type": "code",
   "execution_count": 41,
   "id": "7f525c1a-b3b1-4465-81cf-053a9fa0610a",
   "metadata": {},
   "outputs": [
    {
     "data": {
      "text/plain": [
       "State             0\n",
       "City              0\n",
       "Property_Type     0\n",
       "Size_in_SqFt      1\n",
       "Price_in_Lakhs    0\n",
       "dtype: int64"
      ]
     },
     "execution_count": 41,
     "metadata": {},
     "output_type": "execute_result"
    }
   ],
   "source": [
    "cp.isnull().sum()"
   ]
  },
  {
   "cell_type": "code",
   "execution_count": 42,
   "id": "4dc9f5d5-6685-40eb-9ca8-cd4b3ddf2312",
   "metadata": {},
   "outputs": [],
   "source": [
    "cp['Size_in_SqFt'] = cp['Size_in_SqFt'].fillna(cp['Size_in_SqFt'].mean())"
   ]
  },
  {
   "cell_type": "code",
   "execution_count": 43,
   "id": "3592c6fc-435a-4ced-8dd4-964ca3eaeb9b",
   "metadata": {},
   "outputs": [
    {
     "data": {
      "text/plain": [
       "State             0\n",
       "City              0\n",
       "Property_Type     0\n",
       "Size_in_SqFt      0\n",
       "Price_in_Lakhs    0\n",
       "dtype: int64"
      ]
     },
     "execution_count": 43,
     "metadata": {},
     "output_type": "execute_result"
    }
   ],
   "source": [
    "cp.isnull().sum()"
   ]
  },
  {
   "cell_type": "code",
   "execution_count": null,
   "id": "2c5863f6-18b7-4d61-af75-0d9e51b73ded",
   "metadata": {},
   "outputs": [],
   "source": []
  },
  {
   "cell_type": "code",
   "execution_count": null,
   "id": "ad4fad36-40d9-4e54-ace8-b8bca7b4bef1",
   "metadata": {},
   "outputs": [],
   "source": []
  },
  {
   "cell_type": "raw",
   "id": "0a3f2e11-7e44-49b6-95f3-7d8fd599ab56",
   "metadata": {},
   "source": [
    "Remove blank using sklearn or scikit-learn lib and used in ML"
   ]
  },
  {
   "cell_type": "code",
   "execution_count": 44,
   "id": "3a12e84c-5ff2-4f22-b776-f5b755a1e67b",
   "metadata": {},
   "outputs": [
    {
     "data": {
      "text/html": [
       "<div>\n",
       "<style scoped>\n",
       "    .dataframe tbody tr th:only-of-type {\n",
       "        vertical-align: middle;\n",
       "    }\n",
       "\n",
       "    .dataframe tbody tr th {\n",
       "        vertical-align: top;\n",
       "    }\n",
       "\n",
       "    .dataframe thead th {\n",
       "        text-align: right;\n",
       "    }\n",
       "</style>\n",
       "<table border=\"1\" class=\"dataframe\">\n",
       "  <thead>\n",
       "    <tr style=\"text-align: right;\">\n",
       "      <th></th>\n",
       "      <th>State</th>\n",
       "      <th>City</th>\n",
       "      <th>Property_Type</th>\n",
       "      <th>Size_in_SqFt</th>\n",
       "      <th>Price_in_Lakhs</th>\n",
       "    </tr>\n",
       "  </thead>\n",
       "  <tbody>\n",
       "    <tr>\n",
       "      <th>0</th>\n",
       "      <td>Tamil Nadu</td>\n",
       "      <td>Chennai</td>\n",
       "      <td>Apartment</td>\n",
       "      <td>4740.0</td>\n",
       "      <td>489.76</td>\n",
       "    </tr>\n",
       "    <tr>\n",
       "      <th>1</th>\n",
       "      <td>Maharashtra</td>\n",
       "      <td>Pune</td>\n",
       "      <td>Independent House</td>\n",
       "      <td>2364.0</td>\n",
       "      <td>195.52</td>\n",
       "    </tr>\n",
       "    <tr>\n",
       "      <th>2</th>\n",
       "      <td>Punjab</td>\n",
       "      <td>Ludhiana</td>\n",
       "      <td>Apartment</td>\n",
       "      <td>3642.0</td>\n",
       "      <td>183.79</td>\n",
       "    </tr>\n",
       "    <tr>\n",
       "      <th>3</th>\n",
       "      <td>Rajasthan</td>\n",
       "      <td>Jodhpur</td>\n",
       "      <td>Independent House</td>\n",
       "      <td>2741.0</td>\n",
       "      <td>300.29</td>\n",
       "    </tr>\n",
       "    <tr>\n",
       "      <th>4</th>\n",
       "      <td>Rajasthan</td>\n",
       "      <td>Jaipur</td>\n",
       "      <td>Villa</td>\n",
       "      <td>4823.0</td>\n",
       "      <td>182.90</td>\n",
       "    </tr>\n",
       "    <tr>\n",
       "      <th>...</th>\n",
       "      <td>...</td>\n",
       "      <td>...</td>\n",
       "      <td>...</td>\n",
       "      <td>...</td>\n",
       "      <td>...</td>\n",
       "    </tr>\n",
       "    <tr>\n",
       "      <th>249995</th>\n",
       "      <td>Gujarat</td>\n",
       "      <td>Ahmedabad</td>\n",
       "      <td>Independent House</td>\n",
       "      <td>1995.0</td>\n",
       "      <td>274.75</td>\n",
       "    </tr>\n",
       "    <tr>\n",
       "      <th>249996</th>\n",
       "      <td>Tamil Nadu</td>\n",
       "      <td>Chennai</td>\n",
       "      <td>Apartment</td>\n",
       "      <td>2293.0</td>\n",
       "      <td>13.40</td>\n",
       "    </tr>\n",
       "    <tr>\n",
       "      <th>249997</th>\n",
       "      <td>Telangana</td>\n",
       "      <td>Warangal</td>\n",
       "      <td>Villa</td>\n",
       "      <td>2910.0</td>\n",
       "      <td>236.94</td>\n",
       "    </tr>\n",
       "    <tr>\n",
       "      <th>249998</th>\n",
       "      <td>Odisha</td>\n",
       "      <td>Cuttack</td>\n",
       "      <td>Villa</td>\n",
       "      <td>1149.0</td>\n",
       "      <td>141.66</td>\n",
       "    </tr>\n",
       "    <tr>\n",
       "      <th>249999</th>\n",
       "      <td>Haryana</td>\n",
       "      <td>Gurgaon</td>\n",
       "      <td>Independent House</td>\n",
       "      <td>4313.0</td>\n",
       "      <td>199.69</td>\n",
       "    </tr>\n",
       "  </tbody>\n",
       "</table>\n",
       "<p>250000 rows × 5 columns</p>\n",
       "</div>"
      ],
      "text/plain": [
       "              State       City      Property_Type  Size_in_SqFt  \\\n",
       "0        Tamil Nadu    Chennai          Apartment        4740.0   \n",
       "1       Maharashtra       Pune  Independent House        2364.0   \n",
       "2            Punjab   Ludhiana          Apartment        3642.0   \n",
       "3         Rajasthan    Jodhpur  Independent House        2741.0   \n",
       "4         Rajasthan     Jaipur              Villa        4823.0   \n",
       "...             ...        ...                ...           ...   \n",
       "249995      Gujarat  Ahmedabad  Independent House        1995.0   \n",
       "249996   Tamil Nadu    Chennai          Apartment        2293.0   \n",
       "249997    Telangana   Warangal              Villa        2910.0   \n",
       "249998       Odisha    Cuttack              Villa        1149.0   \n",
       "249999      Haryana    Gurgaon  Independent House        4313.0   \n",
       "\n",
       "        Price_in_Lakhs  \n",
       "0               489.76  \n",
       "1               195.52  \n",
       "2               183.79  \n",
       "3               300.29  \n",
       "4               182.90  \n",
       "...                ...  \n",
       "249995          274.75  \n",
       "249996           13.40  \n",
       "249997          236.94  \n",
       "249998          141.66  \n",
       "249999          199.69  \n",
       "\n",
       "[250000 rows x 5 columns]"
      ]
     },
     "execution_count": 44,
     "metadata": {},
     "output_type": "execute_result"
    }
   ],
   "source": [
    "columns_to_keep = [\"State\", \"City\", \"Property_Type\", \"Size_in_SqFt\", \"Price_in_Lakhs\"]\n",
    "xp = pd.read_csv('D:\\AI_Practice\\india_housing_prices.csv', usecols=columns_to_keep)\n",
    "xp\n"
   ]
  },
  {
   "cell_type": "code",
   "execution_count": 45,
   "id": "e4108fb8-96c4-47fd-94c2-d7b4dae0d092",
   "metadata": {},
   "outputs": [],
   "source": [
    "# for panda array\n",
    "imputer = SimpleImputer(missing_values = np.nan, strategy = 'mean')\n",
    "imputer.fit(xp.iloc[:, 3:5])\n",
    "xp.iloc[:, 3:5] = imputer.transform(xp.iloc[:, 3:5])"
   ]
  },
  {
   "cell_type": "code",
   "execution_count": 46,
   "id": "94ea75f5-2cef-43d4-8dc6-db002d9b4a95",
   "metadata": {},
   "outputs": [
    {
     "data": {
      "text/plain": [
       "State             0\n",
       "City              0\n",
       "Property_Type     0\n",
       "Size_in_SqFt      0\n",
       "Price_in_Lakhs    0\n",
       "dtype: int64"
      ]
     },
     "execution_count": 46,
     "metadata": {},
     "output_type": "execute_result"
    }
   ],
   "source": [
    "xp.isnull().sum()"
   ]
  },
  {
   "cell_type": "code",
   "execution_count": null,
   "id": "e096f194-3b9b-4c46-824d-abdf6222536f",
   "metadata": {},
   "outputs": [],
   "source": []
  },
  {
   "cell_type": "code",
   "execution_count": 47,
   "id": "11a5d464-6423-48a6-9317-9b719d17d0cb",
   "metadata": {},
   "outputs": [],
   "source": [
    "# Encoding of  categories or text into binary data"
   ]
  },
  {
   "cell_type": "code",
   "execution_count": 48,
   "id": "b0b8a8bf-1d5e-48be-9584-78c457c64ade",
   "metadata": {},
   "outputs": [
    {
     "data": {
      "text/plain": [
       "array([[0.0, 0.0, 0.0, ..., 'Apartment', 4740.0, 489.76],\n",
       "       [0.0, 0.0, 0.0, ..., 'Independent House', 2364.0, 195.52],\n",
       "       [0.0, 0.0, 0.0, ..., 'Apartment', 3642.0, 183.79],\n",
       "       ...,\n",
       "       [0.0, 0.0, 0.0, ..., 'Villa', 2910.0, 236.94],\n",
       "       [0.0, 0.0, 0.0, ..., 'Villa', 1149.0, 141.66],\n",
       "       [0.0, 0.0, 0.0, ..., 'Independent House', 4313.0, 199.69]],\n",
       "      shape=(250000, 65), dtype=object)"
      ]
     },
     "execution_count": 48,
     "metadata": {},
     "output_type": "execute_result"
    }
   ],
   "source": [
    "ct = ColumnTransformer(\n",
    "    transformers=[('encoder', OneHotEncoder(sparse_output=False, handle_unknown='ignore'), [0, 1])],\n",
    "    remainder='passthrough'  # Keep numerical columns as they are\n",
    ")\n",
    "\n",
    "xxp = np.array(ct.fit_transform(xp))\n",
    "xxp"
   ]
  },
  {
   "cell_type": "code",
   "execution_count": 49,
   "id": "c8a1698b-93ef-46ed-84c4-94d284dd08c7",
   "metadata": {},
   "outputs": [
    {
     "data": {
      "text/plain": [
       "array(['encoder__State_Andhra Pradesh', 'encoder__State_Assam',\n",
       "       'encoder__State_Bihar', 'encoder__State_Chhattisgarh',\n",
       "       'encoder__State_Delhi', 'encoder__State_Gujarat',\n",
       "       'encoder__State_Haryana', 'encoder__State_Jharkhand',\n",
       "       'encoder__State_Karnataka', 'encoder__State_Kerala',\n",
       "       'encoder__State_Madhya Pradesh', 'encoder__State_Maharashtra',\n",
       "       'encoder__State_Odisha', 'encoder__State_Punjab',\n",
       "       'encoder__State_Rajasthan', 'encoder__State_Tamil Nadu',\n",
       "       'encoder__State_Telangana', 'encoder__State_Uttar Pradesh',\n",
       "       'encoder__State_Uttarakhand', 'encoder__State_West Bengal',\n",
       "       'encoder__City_Ahmedabad', 'encoder__City_Amritsar',\n",
       "       'encoder__City_Bangalore', 'encoder__City_Bhopal',\n",
       "       'encoder__City_Bhubaneswar', 'encoder__City_Bilaspur',\n",
       "       'encoder__City_Chennai', 'encoder__City_Coimbatore',\n",
       "       'encoder__City_Cuttack', 'encoder__City_Dehradun',\n",
       "       'encoder__City_Durgapur', 'encoder__City_Dwarka',\n",
       "       'encoder__City_Faridabad', 'encoder__City_Gaya',\n",
       "       'encoder__City_Gurgaon', 'encoder__City_Guwahati',\n",
       "       'encoder__City_Haridwar', 'encoder__City_Hyderabad',\n",
       "       'encoder__City_Indore', 'encoder__City_Jaipur',\n",
       "       'encoder__City_Jamshedpur', 'encoder__City_Jodhpur',\n",
       "       'encoder__City_Kochi', 'encoder__City_Kolkata',\n",
       "       'encoder__City_Lucknow', 'encoder__City_Ludhiana',\n",
       "       'encoder__City_Mangalore', 'encoder__City_Mumbai',\n",
       "       'encoder__City_Mysore', 'encoder__City_Nagpur',\n",
       "       'encoder__City_New Delhi', 'encoder__City_Noida',\n",
       "       'encoder__City_Patna', 'encoder__City_Pune',\n",
       "       'encoder__City_Raipur', 'encoder__City_Ranchi',\n",
       "       'encoder__City_Silchar', 'encoder__City_Surat',\n",
       "       'encoder__City_Trivandrum', 'encoder__City_Vijayawada',\n",
       "       'encoder__City_Vishakhapatnam', 'encoder__City_Warangal',\n",
       "       'remainder__Property_Type', 'remainder__Size_in_SqFt',\n",
       "       'remainder__Price_in_Lakhs'], dtype=object)"
      ]
     },
     "execution_count": 49,
     "metadata": {},
     "output_type": "execute_result"
    }
   ],
   "source": [
    "ct.get_feature_names_out()\n"
   ]
  },
  {
   "cell_type": "code",
   "execution_count": null,
   "id": "e75def9a-3948-4325-b8b3-4791d1a254d0",
   "metadata": {},
   "outputs": [],
   "source": []
  },
  {
   "cell_type": "code",
   "execution_count": 50,
   "id": "ea4722a2-b691-4310-ab5c-c139dafc737c",
   "metadata": {},
   "outputs": [],
   "source": [
    "# Labeling the data based yes no or any "
   ]
  },
  {
   "cell_type": "code",
   "execution_count": 51,
   "id": "1f31929c-0ba2-42f7-9a18-c2b19bd7c853",
   "metadata": {},
   "outputs": [
    {
     "data": {
      "text/plain": [
       "array([0, 1, 0, ..., 2, 2, 1], shape=(250000,))"
      ]
     },
     "execution_count": 51,
     "metadata": {},
     "output_type": "execute_result"
    }
   ],
   "source": [
    "le = LabelEncoder()\n",
    "\n",
    "y = cp.iloc[:,2] = np.array(le.fit_transform(cp.iloc[:,2]))\n",
    "# cp[:5]\n",
    "y"
   ]
  },
  {
   "cell_type": "code",
   "execution_count": null,
   "id": "15e571e8-40b6-4546-a9e7-7e20974275df",
   "metadata": {},
   "outputs": [],
   "source": []
  },
  {
   "cell_type": "code",
   "execution_count": 52,
   "id": "2573273e-fe97-4d33-9985-2c3992d29d9a",
   "metadata": {},
   "outputs": [],
   "source": [
    "# Splitting the data set into training and test dataset "
   ]
  },
  {
   "cell_type": "code",
   "execution_count": 53,
   "id": "3dca9675-4443-484a-925b-cb3e74dedff0",
   "metadata": {},
   "outputs": [],
   "source": [
    "X_train, X_test , Y_train, Y_test = train_test_split(xxp,y, test_size = 0.2, random_state = 1)"
   ]
  },
  {
   "cell_type": "code",
   "execution_count": 54,
   "id": "5d6e43ca-6c7d-426f-ac18-2cda319d7c46",
   "metadata": {},
   "outputs": [
    {
     "data": {
      "text/plain": [
       "array([[0.0, 0.0, 0.0, ..., 'Villa', 2976.0, 194.08],\n",
       "       [0.0, 0.0, 0.0, ..., 'Apartment', 2990.0, 269.74],\n",
       "       [0.0, 0.0, 0.0, ..., 'Villa', 1411.0, 297.03],\n",
       "       ...,\n",
       "       [0.0, 0.0, 0.0, ..., 'Villa', 1056.0, 193.64],\n",
       "       [0.0, 0.0, 0.0, ..., 'Independent House', 2612.0, 206.07],\n",
       "       [0.0, 0.0, 0.0, ..., 'Independent House', 1378.0, 299.18]],\n",
       "      shape=(200000, 65), dtype=object)"
      ]
     },
     "execution_count": 54,
     "metadata": {},
     "output_type": "execute_result"
    }
   ],
   "source": [
    "X_train"
   ]
  },
  {
   "cell_type": "code",
   "execution_count": 55,
   "id": "5751f3ad-34f1-45f3-b0a8-dd8a34bac3ae",
   "metadata": {},
   "outputs": [
    {
     "data": {
      "text/plain": [
       "array([2, 0, 2, ..., 2, 1, 1], shape=(200000,))"
      ]
     },
     "execution_count": 55,
     "metadata": {},
     "output_type": "execute_result"
    }
   ],
   "source": [
    "Y_train"
   ]
  },
  {
   "cell_type": "code",
   "execution_count": 56,
   "id": "ce3eeccd-f424-4f16-b8ce-30166109e829",
   "metadata": {},
   "outputs": [
    {
     "data": {
      "text/plain": [
       "array([[0.0, 0.0, 0.0, ..., 'Apartment', 3342.0, 108.05],\n",
       "       [0.0, 0.0, 0.0, ..., 'Villa', 4417.0, 25.74],\n",
       "       [0.0, 0.0, 0.0, ..., 'Apartment', 1850.0, 41.04],\n",
       "       ...,\n",
       "       [0.0, 0.0, 0.0, ..., 'Independent House', 4600.0, 130.18],\n",
       "       [0.0, 0.0, 0.0, ..., 'Independent House', 1016.0, 372.22],\n",
       "       [0.0, 0.0, 0.0, ..., 'Independent House', 4460.0, 282.68]],\n",
       "      shape=(50000, 65), dtype=object)"
      ]
     },
     "execution_count": 56,
     "metadata": {},
     "output_type": "execute_result"
    }
   ],
   "source": [
    "X_test"
   ]
  },
  {
   "cell_type": "code",
   "execution_count": 57,
   "id": "41dbdc21-8dd0-4200-93b4-5e5f043a000d",
   "metadata": {},
   "outputs": [
    {
     "data": {
      "text/plain": [
       "array([0, 2, 0, ..., 1, 1, 1], shape=(50000,))"
      ]
     },
     "execution_count": 57,
     "metadata": {},
     "output_type": "execute_result"
    }
   ],
   "source": [
    "Y_test"
   ]
  },
  {
   "cell_type": "code",
   "execution_count": null,
   "id": "7a3c3027-f934-49c5-887d-ab2431e1361b",
   "metadata": {},
   "outputs": [],
   "source": []
  },
  {
   "cell_type": "code",
   "execution_count": null,
   "id": "684e6edf-69bd-43e9-9740-3c4a1731c63e",
   "metadata": {},
   "outputs": [],
   "source": []
  },
  {
   "cell_type": "code",
   "execution_count": 58,
   "id": "85db74e0-c2b4-48f4-8fdc-ff486244c974",
   "metadata": {},
   "outputs": [],
   "source": [
    "# # Feature SCaling\n",
    "# Simple linear regression = b0 + b1x1\n",
    "# multiple linear regression = b0 + b1x1 + b2x2 + .. +bnxn\n",
    "# polynomial linear regression = b0 + b1x1 + b2(x2)2 + .. +bn(xn)n\n",
    "\n",
    "# We also do standarization and normalization\n"
   ]
  },
  {
   "cell_type": "code",
   "execution_count": 61,
   "id": "7b3cbadf-8e4f-414d-b0be-a305814f3bf0",
   "metadata": {},
   "outputs": [],
   "source": [
    "sc = StandardScaler()\n",
    "X_train[:, -2:]  = sc.fit_transform(X_train[:, -2:])\n",
    "X_test[:, -2:]  = sc.transform(X_test[:, -2:])"
   ]
  },
  {
   "cell_type": "code",
   "execution_count": 62,
   "id": "b4050146-a145-40d9-b97e-d299a35d7737",
   "metadata": {},
   "outputs": [
    {
     "data": {
      "text/plain": [
       "array([[0.0, 0.0, 0.0, ..., 'Villa', 0.1731626072026661,\n",
       "        -0.42876040397183773],\n",
       "       [0.0, 0.0, 0.0, ..., 'Apartment', 0.1839233189131494,\n",
       "        0.10691201560542155],\n",
       "       [0.0, 0.0, 0.0, ..., 'Villa', -1.0297312375763574,\n",
       "        0.3001250783897645],\n",
       "       ...,\n",
       "       [0.0, 0.0, 0.0, ..., 'Villa', -1.302592141663612,\n",
       "        -0.43187560175949313],\n",
       "       [0.0, 0.0, 0.0, ..., 'Independent House', -0.1066158972698991,\n",
       "        -0.3438712642582331],\n",
       "       [0.0, 0.0, 0.0, ..., 'Independent House', -1.0550957723224965,\n",
       "        0.31534706757944364]], shape=(200000, 65), dtype=object)"
      ]
     },
     "execution_count": 62,
     "metadata": {},
     "output_type": "execute_result"
    }
   ],
   "source": [
    "X_train"
   ]
  },
  {
   "cell_type": "code",
   "execution_count": 63,
   "id": "695593dd-c7cc-423b-89e1-0f0b6682fd43",
   "metadata": {},
   "outputs": [
    {
     "data": {
      "text/plain": [
       "array([[0.0, 0.0, 0.0, ..., 'Apartment', 0.45447835620530036,\n",
       "        -1.0378523714081531],\n",
       "       [0.0, 0.0, 0.0, ..., 'Villa', 1.2807472911174091,\n",
       "        -1.6206067575488379],\n",
       "       [0.0, 0.0, 0.0, ..., 'Apartment', -0.6923060632262032,\n",
       "        -1.5122828344780996],\n",
       "       ...,\n",
       "       [0.0, 0.0, 0.0, ..., 'Independent House', 1.4214051656187263,\n",
       "        -0.8811720826790393],\n",
       "       [0.0, 0.0, 0.0, ..., 'Independent House', -1.3333370322649927,\n",
       "        0.8324699003302107],\n",
       "       [0.0, 0.0, 0.0, ..., 'Independent House', 1.3137980485138936,\n",
       "        0.19852715054237283]], shape=(50000, 65), dtype=object)"
      ]
     },
     "execution_count": 63,
     "metadata": {},
     "output_type": "execute_result"
    }
   ],
   "source": [
    "X_test"
   ]
  },
  {
   "cell_type": "code",
   "execution_count": null,
   "id": "dc2c7c7f-9f7d-4e61-bbd5-64446e2fd205",
   "metadata": {},
   "outputs": [],
   "source": []
  }
 ],
 "metadata": {
  "kernelspec": {
   "display_name": "Python 3 (ipykernel)",
   "language": "python",
   "name": "python3"
  },
  "language_info": {
   "codemirror_mode": {
    "name": "ipython",
    "version": 3
   },
   "file_extension": ".py",
   "mimetype": "text/x-python",
   "name": "python",
   "nbconvert_exporter": "python",
   "pygments_lexer": "ipython3",
   "version": "3.11.2"
  }
 },
 "nbformat": 4,
 "nbformat_minor": 5
}
