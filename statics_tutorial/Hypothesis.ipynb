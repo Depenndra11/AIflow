{
 "cells": [
  {
   "cell_type": "code",
   "execution_count": null,
   "id": "47811a53-ffdb-4120-9740-8c0bf3c6ba18",
   "metadata": {},
   "outputs": [],
   "source": [
    "# null hypothesis - When reuslt are not significant  show by h-nought or h0\n",
    "# Alternative hypothesis - When reuslt are significant  show by ha or h1"
   ]
  },
  {
   "cell_type": "code",
   "execution_count": null,
   "id": "ada52efe-5ec1-45be-a53a-273a50134843",
   "metadata": {},
   "outputs": [],
   "source": [
    "# Z test and T test worked when query  is related to average\n",
    "# Z test used when mean and std devaiation avl , sample > 30\n",
    "# T test used when mean of mqin data and std devaiation of sample data avl , sample < 30"
   ]
  },
  {
   "cell_type": "code",
   "execution_count": null,
   "id": "027756c6-9747-4c79-a813-8b3618e13744",
   "metadata": {},
   "outputs": [],
   "source": [
    "# Z value shpuld be find from z table"
   ]
  },
  {
   "cell_type": "code",
   "execution_count": 2,
   "id": "8002ab41-65a4-47b0-8dbb-60a730c61a23",
   "metadata": {},
   "outputs": [],
   "source": [
    "import scipy.stats as st\n",
    "import numpy as np"
   ]
  },
  {
   "cell_type": "code",
   "execution_count": 3,
   "id": "596653c6-63d5-4ca0-b3d1-e4b94819fee1",
   "metadata": {},
   "outputs": [],
   "source": [
    "# Z val \n",
    "Z_val = st.norm.ppf(0.95)"
   ]
  },
  {
   "cell_type": "code",
   "execution_count": 4,
   "id": "bbcd89f2-1e02-4888-a4b5-f102eaebc63b",
   "metadata": {},
   "outputs": [],
   "source": [
    "# sample mean \n",
    "sam_x = 90\n",
    "# total data mean\n",
    "total_u= 82\n",
    "total_std =20\n",
    "sam_n = 81"
   ]
  },
  {
   "cell_type": "code",
   "execution_count": 5,
   "id": "53425741-d7b1-40a2-98d0-870810f35a1f",
   "metadata": {},
   "outputs": [
    {
     "data": {
      "text/plain": [
       "np.float64(3.5999999999999996)"
      ]
     },
     "execution_count": 5,
     "metadata": {},
     "output_type": "execute_result"
    }
   ],
   "source": [
    "Z_cal = (sam_x - total_u)/(total_std/np.sqrt(sam_n))\n",
    "Z_cal"
   ]
  },
  {
   "cell_type": "code",
   "execution_count": 6,
   "id": "33b5f721-3c35-446b-b07b-38f700b62339",
   "metadata": {},
   "outputs": [
    {
     "name": "stdout",
     "output_type": "stream",
     "text": [
      "Ha is right\n"
     ]
    }
   ],
   "source": [
    "if Z_val < Z_cal :\n",
    "    print(\"Ha is right\")\n",
    "else:\n",
    "    print(\"H0 is right\")"
   ]
  },
  {
   "cell_type": "code",
   "execution_count": null,
   "id": "0b968c1f-49cf-4955-a122-fe5349f9c2f6",
   "metadata": {},
   "outputs": [],
   "source": []
  },
  {
   "cell_type": "code",
   "execution_count": 7,
   "id": "e713359e-a3ec-4375-a5e9-d944b7704930",
   "metadata": {},
   "outputs": [],
   "source": [
    "\n",
    "# T test used when mean of mqin data and std devaiation of sample data avl , sample < 30"
   ]
  },
  {
   "cell_type": "code",
   "execution_count": 10,
   "id": "dc61fe17-af99-4496-9dd5-542c59418e99",
   "metadata": {},
   "outputs": [
    {
     "data": {
      "text/plain": [
       "np.float64(-1.7108820799094282)"
      ]
     },
     "execution_count": 10,
     "metadata": {},
     "output_type": "execute_result"
    }
   ],
   "source": [
    "t_table = st.t.ppf(0.05, 24)\n",
    "t_table"
   ]
  },
  {
   "cell_type": "code",
   "execution_count": null,
   "id": "221fbeb1-2598-4306-a948-9cc818ef3488",
   "metadata": {},
   "outputs": [],
   "source": []
  },
  {
   "cell_type": "code",
   "execution_count": null,
   "id": "864c2dc6-e637-45e1-8157-6e0620fd290a",
   "metadata": {},
   "outputs": [],
   "source": [
    "# Chi test is used to check fairness and independende of data\n",
    "# observed data and expected data"
   ]
  }
 ],
 "metadata": {
  "kernelspec": {
   "display_name": "Python 3 (ipykernel)",
   "language": "python",
   "name": "python3"
  },
  "language_info": {
   "codemirror_mode": {
    "name": "ipython",
    "version": 3
   },
   "file_extension": ".py",
   "mimetype": "text/x-python",
   "name": "python",
   "nbconvert_exporter": "python",
   "pygments_lexer": "ipython3",
   "version": "3.11.2"
  }
 },
 "nbformat": 4,
 "nbformat_minor": 5
}
