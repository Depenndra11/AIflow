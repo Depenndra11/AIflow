{
 "cells": [
  {
   "cell_type": "code",
   "execution_count": null,
   "id": "0e45c517-377f-4818-bf87-0d8d4c7ca904",
   "metadata": {},
   "outputs": [],
   "source": [
    "# tow types of range\n",
    "# DIscrte - FIxed set of result like coin or dice\n",
    "# continuous - Result between Range"
   ]
  },
  {
   "cell_type": "code",
   "execution_count": null,
   "id": "9e9ec9d4-f108-4f79-b906-ffbf91f44525",
   "metadata": {},
   "outputs": [],
   "source": [
    "# 3 probability function\n",
    "# 1. probability density function - In continuous data\n",
    "# 2. probability mass function - In desrete function like coin/dice\n",
    "# 3. cumalative density function\n",
    "\n",
    "# normal /gaussian distribution - left right both same in curve\n",
    "# standard normal /gaussian distribution- when median is on zero"
   ]
  }
 ],
 "metadata": {
  "kernelspec": {
   "display_name": "Python 3 (ipykernel)",
   "language": "python",
   "name": "python3"
  },
  "language_info": {
   "codemirror_mode": {
    "name": "ipython",
    "version": 3
   },
   "file_extension": ".py",
   "mimetype": "text/x-python",
   "name": "python",
   "nbconvert_exporter": "python",
   "pygments_lexer": "ipython3",
   "version": "3.11.2"
  }
 },
 "nbformat": 4,
 "nbformat_minor": 5
}
